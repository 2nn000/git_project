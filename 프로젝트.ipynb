{
 "cells": [
  {
   "cell_type": "code",
   "execution_count": 1,
   "id": "39556f73-09ae-4ffa-a20a-a20408ea17fb",
   "metadata": {},
   "outputs": [
    {
     "name": "stdout",
     "output_type": "stream",
     "text": [
      "member1이 작업함\n"
     ]
    }
   ],
   "source": [
    "print('member1이 작업함')"
   ]
  },
  {
   "cell_type": "code",
   "execution_count": 2,
   "id": "12d1180b-842a-4ee0-b2d8-93a76951d27b",
   "metadata": {},
   "outputs": [
    {
     "name": "stdout",
     "output_type": "stream",
     "text": [
      "member1이 또 작업함\n"
     ]
    }
   ],
   "source": [
    "print('member1이 또 작업함')"
   ]
  },
  {
   "cell_type": "code",
   "execution_count": 4,
   "id": "e53024af-d497-447b-afc2-88bfeab37fd6",
   "metadata": {},
   "outputs": [
    {
     "name": "stdout",
     "output_type": "stream",
     "text": [
      "브랜치에서 작업함\n"
     ]
    }
   ],
   "source": [
    "print('브랜치에서 작업함')"
   ]
  },
  {
   "cell_type": "code",
   "execution_count": 5,
   "id": "e68d34ac-599d-4f80-9f8c-989593416a43",
   "metadata": {},
   "outputs": [
    {
     "name": "stdout",
     "output_type": "stream",
     "text": [
      "이야이야오\n"
     ]
    }
   ],
   "source": [
    "print('이야이야오')"
   ]
  }
 ],
 "metadata": {
  "kernelspec": {
   "display_name": "Python 3 (ipykernel)",
   "language": "python",
   "name": "python3"
  },
  "language_info": {
   "codemirror_mode": {
    "name": "ipython",
    "version": 3
   },
   "file_extension": ".py",
   "mimetype": "text/x-python",
   "name": "python",
   "nbconvert_exporter": "python",
   "pygments_lexer": "ipython3",
   "version": "3.11.5"
  }
 },
 "nbformat": 4,
 "nbformat_minor": 5
}
